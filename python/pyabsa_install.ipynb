{
 "cells": [
  {
   "cell_type": "markdown",
   "metadata": {},
   "source": [
    "# PyABSA Installation & Config"
   ]
  },
  {
   "cell_type": "code",
   "execution_count": 4,
   "metadata": {},
   "outputs": [
    {
     "name": "stdout",
     "output_type": "stream",
     "text": [
      "^C\n",
      "Note: you may need to restart the kernel to use updated packages.\n"
     ]
    },
    {
     "name": "stdout",
     "output_type": "stream",
     "text": [
      "Requirement already satisfied: pyabsa in c:\\users\\lutzh\\documents\\py\\.venv\\lib\\site-packages (2.4.0)\n",
      "Requirement already satisfied: findfile>=2.0.0 in c:\\users\\lutzh\\documents\\py\\.venv\\lib\\site-packages (from pyabsa) (2.0.1)\n",
      "Requirement already satisfied: autocuda>=0.16 in c:\\users\\lutzh\\documents\\py\\.venv\\lib\\site-packages (from pyabsa) (0.16)\n",
      "Requirement already satisfied: metric-visualizer>=0.9.6 in c:\\users\\lutzh\\documents\\py\\.venv\\lib\\site-packages (from pyabsa) (0.9.9)\n",
      "Requirement already satisfied: boostaug>=2.3.5 in c:\\users\\lutzh\\documents\\py\\.venv\\lib\\site-packages (from pyabsa) (2.3.5)\n",
      "Requirement already satisfied: spacy in c:\\users\\lutzh\\documents\\py\\.venv\\lib\\site-packages (from pyabsa) (3.7.2)\n",
      "Requirement already satisfied: networkx in c:\\users\\lutzh\\documents\\py\\.venv\\lib\\site-packages (from pyabsa) (3.2.1)\n",
      "Requirement already satisfied: seqeval in c:\\users\\lutzh\\documents\\py\\.venv\\lib\\site-packages (from pyabsa) (1.2.2)\n",
      "Requirement already satisfied: update-checker in c:\\users\\lutzh\\documents\\py\\.venv\\lib\\site-packages (from pyabsa) (0.18.0)\n",
      "Requirement already satisfied: typing-extensions in c:\\users\\lutzh\\documents\\py\\.venv\\lib\\site-packages (from pyabsa) (4.9.0)\n",
      "Requirement already satisfied: tqdm in c:\\users\\lutzh\\documents\\py\\.venv\\lib\\site-packages (from pyabsa) (4.66.1)\n",
      "Requirement already satisfied: pytorch-warmup in c:\\users\\lutzh\\documents\\py\\.venv\\lib\\site-packages (from pyabsa) (0.1.1)\n",
      "Requirement already satisfied: termcolor in c:\\users\\lutzh\\documents\\py\\.venv\\lib\\site-packages (from pyabsa) (2.4.0)\n",
      "Requirement already satisfied: gitpython in c:\\users\\lutzh\\documents\\py\\.venv\\lib\\site-packages (from pyabsa) (3.1.41)\n",
      "Requirement already satisfied: transformers>=4.18.0 in c:\\users\\lutzh\\documents\\py\\.venv\\lib\\site-packages (from pyabsa) (4.36.2)\n",
      "Requirement already satisfied: torch>=1.0.0 in c:\\users\\lutzh\\documents\\py\\.venv\\lib\\site-packages (from pyabsa) (2.1.2)\n",
      "Requirement already satisfied: sentencepiece in c:\\users\\lutzh\\documents\\py\\.venv\\lib\\site-packages (from pyabsa) (0.1.99)\n",
      "Requirement already satisfied: protobuf<4.0.0 in c:\\users\\lutzh\\documents\\py\\.venv\\lib\\site-packages (from pyabsa) (3.20.3)\n",
      "Requirement already satisfied: pandas in c:\\users\\lutzh\\documents\\py\\.venv\\lib\\site-packages (from pyabsa) (2.1.4)\n",
      "Requirement already satisfied: matplotlib>=3.6.3 in c:\\users\\lutzh\\documents\\py\\.venv\\lib\\site-packages (from metric-visualizer>=0.9.6->pyabsa) (3.8.2)\n",
      "Requirement already satisfied: tikzplotlib in c:\\users\\lutzh\\documents\\py\\.venv\\lib\\site-packages (from metric-visualizer>=0.9.6->pyabsa) (0.10.1)\n",
      "Requirement already satisfied: scipy>=1.10.0 in c:\\users\\lutzh\\documents\\py\\.venv\\lib\\site-packages (from metric-visualizer>=0.9.6->pyabsa) (1.10.1)\n",
      "Requirement already satisfied: tabulate in c:\\users\\lutzh\\documents\\py\\.venv\\lib\\site-packages (from metric-visualizer>=0.9.6->pyabsa) (0.9.0)\n",
      "Requirement already satisfied: natsort in c:\\users\\lutzh\\documents\\py\\.venv\\lib\\site-packages (from metric-visualizer>=0.9.6->pyabsa) (8.4.0)\n",
      "Requirement already satisfied: numpy in c:\\users\\lutzh\\documents\\py\\.venv\\lib\\site-packages (from metric-visualizer>=0.9.6->pyabsa) (1.26.3)\n",
      "Requirement already satisfied: click in c:\\users\\lutzh\\documents\\py\\.venv\\lib\\site-packages (from metric-visualizer>=0.9.6->pyabsa) (8.1.7)\n",
      "Requirement already satisfied: openpyxl in c:\\users\\lutzh\\documents\\py\\.venv\\lib\\site-packages (from metric-visualizer>=0.9.6->pyabsa) (3.1.2)\n",
      "Requirement already satisfied: xlsxwriter in c:\\users\\lutzh\\documents\\py\\.venv\\lib\\site-packages (from metric-visualizer>=0.9.6->pyabsa) (3.1.9)\n",
      "Requirement already satisfied: scikit-learn<1.3.0 in c:\\users\\lutzh\\documents\\py\\.venv\\lib\\site-packages (from metric-visualizer>=0.9.6->pyabsa) (1.2.2)\n",
      "Requirement already satisfied: filelock in c:\\users\\lutzh\\documents\\py\\.venv\\lib\\site-packages (from torch>=1.0.0->pyabsa) (3.13.1)\n",
      "Requirement already satisfied: sympy in c:\\users\\lutzh\\documents\\py\\.venv\\lib\\site-packages (from torch>=1.0.0->pyabsa) (1.12)\n",
      "Requirement already satisfied: jinja2 in c:\\users\\lutzh\\documents\\py\\.venv\\lib\\site-packages (from torch>=1.0.0->pyabsa) (3.1.3)\n",
      "Requirement already satisfied: fsspec in c:\\users\\lutzh\\documents\\py\\.venv\\lib\\site-packages (from torch>=1.0.0->pyabsa) (2023.12.2)\n",
      "Requirement already satisfied: huggingface-hub<1.0,>=0.19.3 in c:\\users\\lutzh\\documents\\py\\.venv\\lib\\site-packages (from transformers>=4.18.0->pyabsa) (0.20.2)\n",
      "Requirement already satisfied: packaging>=20.0 in c:\\users\\lutzh\\documents\\py\\.venv\\lib\\site-packages (from transformers>=4.18.0->pyabsa) (23.2)\n",
      "Requirement already satisfied: pyyaml>=5.1 in c:\\users\\lutzh\\documents\\py\\.venv\\lib\\site-packages (from transformers>=4.18.0->pyabsa) (6.0.1)\n",
      "Requirement already satisfied: regex!=2019.12.17 in c:\\users\\lutzh\\documents\\py\\.venv\\lib\\site-packages (from transformers>=4.18.0->pyabsa) (2023.12.25)\n",
      "Requirement already satisfied: requests in c:\\users\\lutzh\\documents\\py\\.venv\\lib\\site-packages (from transformers>=4.18.0->pyabsa) (2.31.0)\n",
      "Requirement already satisfied: tokenizers<0.19,>=0.14 in c:\\users\\lutzh\\documents\\py\\.venv\\lib\\site-packages (from transformers>=4.18.0->pyabsa) (0.15.0)\n",
      "Requirement already satisfied: safetensors>=0.3.1 in c:\\users\\lutzh\\documents\\py\\.venv\\lib\\site-packages (from transformers>=4.18.0->pyabsa) (0.4.1)\n",
      "Requirement already satisfied: colorama in c:\\users\\lutzh\\documents\\py\\.venv\\lib\\site-packages (from tqdm->pyabsa) (0.4.6)\n",
      "Requirement already satisfied: gitdb<5,>=4.0.1 in c:\\users\\lutzh\\documents\\py\\.venv\\lib\\site-packages (from gitpython->pyabsa) (4.0.11)\n",
      "Requirement already satisfied: python-dateutil>=2.8.2 in c:\\users\\lutzh\\documents\\py\\.venv\\lib\\site-packages (from pandas->pyabsa) (2.8.2)\n",
      "Requirement already satisfied: pytz>=2020.1 in c:\\users\\lutzh\\documents\\py\\.venv\\lib\\site-packages (from pandas->pyabsa) (2023.3.post1)\n",
      "Requirement already satisfied: tzdata>=2022.1 in c:\\users\\lutzh\\documents\\py\\.venv\\lib\\site-packages (from pandas->pyabsa) (2023.4)\n",
      "Requirement already satisfied: spacy-legacy<3.1.0,>=3.0.11 in c:\\users\\lutzh\\documents\\py\\.venv\\lib\\site-packages (from spacy->pyabsa) (3.0.12)\n",
      "Requirement already satisfied: spacy-loggers<2.0.0,>=1.0.0 in c:\\users\\lutzh\\documents\\py\\.venv\\lib\\site-packages (from spacy->pyabsa) (1.0.5)\n",
      "Requirement already satisfied: murmurhash<1.1.0,>=0.28.0 in c:\\users\\lutzh\\documents\\py\\.venv\\lib\\site-packages (from spacy->pyabsa) (1.0.10)\n",
      "Requirement already satisfied: cymem<2.1.0,>=2.0.2 in c:\\users\\lutzh\\documents\\py\\.venv\\lib\\site-packages (from spacy->pyabsa) (2.0.8)\n",
      "Requirement already satisfied: preshed<3.1.0,>=3.0.2 in c:\\users\\lutzh\\documents\\py\\.venv\\lib\\site-packages (from spacy->pyabsa) (3.0.9)\n",
      "Requirement already satisfied: thinc<8.3.0,>=8.1.8 in c:\\users\\lutzh\\documents\\py\\.venv\\lib\\site-packages (from spacy->pyabsa) (8.2.2)\n",
      "Requirement already satisfied: wasabi<1.2.0,>=0.9.1 in c:\\users\\lutzh\\documents\\py\\.venv\\lib\\site-packages (from spacy->pyabsa) (1.1.2)\n",
      "Requirement already satisfied: srsly<3.0.0,>=2.4.3 in c:\\users\\lutzh\\documents\\py\\.venv\\lib\\site-packages (from spacy->pyabsa) (2.4.8)\n",
      "Requirement already satisfied: catalogue<2.1.0,>=2.0.6 in c:\\users\\lutzh\\documents\\py\\.venv\\lib\\site-packages (from spacy->pyabsa) (2.0.10)\n",
      "Requirement already satisfied: weasel<0.4.0,>=0.1.0 in c:\\users\\lutzh\\documents\\py\\.venv\\lib\\site-packages (from spacy->pyabsa) (0.3.4)\n",
      "Requirement already satisfied: typer<0.10.0,>=0.3.0 in c:\\users\\lutzh\\documents\\py\\.venv\\lib\\site-packages (from spacy->pyabsa) (0.9.0)\n",
      "Requirement already satisfied: smart-open<7.0.0,>=5.2.1 in c:\\users\\lutzh\\documents\\py\\.venv\\lib\\site-packages (from spacy->pyabsa) (6.4.0)\n",
      "Requirement already satisfied: pydantic!=1.8,!=1.8.1,<3.0.0,>=1.7.4 in c:\\users\\lutzh\\documents\\py\\.venv\\lib\\site-packages (from spacy->pyabsa) (2.5.3)\n",
      "Requirement already satisfied: setuptools in c:\\users\\lutzh\\documents\\py\\.venv\\lib\\site-packages (from spacy->pyabsa) (65.5.0)\n",
      "Requirement already satisfied: langcodes<4.0.0,>=3.2.0 in c:\\users\\lutzh\\documents\\py\\.venv\\lib\\site-packages (from spacy->pyabsa) (3.3.0)\n",
      "Requirement already satisfied: smmap<6,>=3.0.1 in c:\\users\\lutzh\\documents\\py\\.venv\\lib\\site-packages (from gitdb<5,>=4.0.1->gitpython->pyabsa) (5.0.1)\n",
      "Requirement already satisfied: contourpy>=1.0.1 in c:\\users\\lutzh\\documents\\py\\.venv\\lib\\site-packages (from matplotlib>=3.6.3->metric-visualizer>=0.9.6->pyabsa) (1.2.0)\n",
      "Requirement already satisfied: cycler>=0.10 in c:\\users\\lutzh\\documents\\py\\.venv\\lib\\site-packages (from matplotlib>=3.6.3->metric-visualizer>=0.9.6->pyabsa) (0.12.1)\n",
      "Requirement already satisfied: fonttools>=4.22.0 in c:\\users\\lutzh\\documents\\py\\.venv\\lib\\site-packages (from matplotlib>=3.6.3->metric-visualizer>=0.9.6->pyabsa) (4.47.0)\n",
      "Requirement already satisfied: kiwisolver>=1.3.1 in c:\\users\\lutzh\\documents\\py\\.venv\\lib\\site-packages (from matplotlib>=3.6.3->metric-visualizer>=0.9.6->pyabsa) (1.4.5)\n",
      "Requirement already satisfied: pillow>=8 in c:\\users\\lutzh\\documents\\py\\.venv\\lib\\site-packages (from matplotlib>=3.6.3->metric-visualizer>=0.9.6->pyabsa) (10.2.0)\n",
      "Requirement already satisfied: pyparsing>=2.3.1 in c:\\users\\lutzh\\documents\\py\\.venv\\lib\\site-packages (from matplotlib>=3.6.3->metric-visualizer>=0.9.6->pyabsa) (3.1.1)\n",
      "Requirement already satisfied: annotated-types>=0.4.0 in c:\\users\\lutzh\\documents\\py\\.venv\\lib\\site-packages (from pydantic!=1.8,!=1.8.1,<3.0.0,>=1.7.4->spacy->pyabsa) (0.6.0)\n",
      "Requirement already satisfied: pydantic-core==2.14.6 in c:\\users\\lutzh\\documents\\py\\.venv\\lib\\site-packages (from pydantic!=1.8,!=1.8.1,<3.0.0,>=1.7.4->spacy->pyabsa) (2.14.6)\n",
      "Requirement already satisfied: six>=1.5 in c:\\users\\lutzh\\documents\\py\\.venv\\lib\\site-packages (from python-dateutil>=2.8.2->pandas->pyabsa) (1.16.0)\n",
      "Requirement already satisfied: charset-normalizer<4,>=2 in c:\\users\\lutzh\\documents\\py\\.venv\\lib\\site-packages (from requests->transformers>=4.18.0->pyabsa) (3.3.2)\n",
      "Requirement already satisfied: idna<4,>=2.5 in c:\\users\\lutzh\\documents\\py\\.venv\\lib\\site-packages (from requests->transformers>=4.18.0->pyabsa) (3.6)\n",
      "Requirement already satisfied: urllib3<3,>=1.21.1 in c:\\users\\lutzh\\documents\\py\\.venv\\lib\\site-packages (from requests->transformers>=4.18.0->pyabsa) (2.1.0)\n",
      "Requirement already satisfied: certifi>=2017.4.17 in c:\\users\\lutzh\\documents\\py\\.venv\\lib\\site-packages (from requests->transformers>=4.18.0->pyabsa) (2023.11.17)\n",
      "Requirement already satisfied: joblib>=1.1.1 in c:\\users\\lutzh\\documents\\py\\.venv\\lib\\site-packages (from scikit-learn<1.3.0->metric-visualizer>=0.9.6->pyabsa) (1.3.2)\n",
      "Requirement already satisfied: threadpoolctl>=2.0.0 in c:\\users\\lutzh\\documents\\py\\.venv\\lib\\site-packages (from scikit-learn<1.3.0->metric-visualizer>=0.9.6->pyabsa) (3.2.0)\n",
      "Requirement already satisfied: blis<0.8.0,>=0.7.8 in c:\\users\\lutzh\\documents\\py\\.venv\\lib\\site-packages (from thinc<8.3.0,>=8.1.8->spacy->pyabsa) (0.7.11)\n",
      "Requirement already satisfied: confection<1.0.0,>=0.0.1 in c:\\users\\lutzh\\documents\\py\\.venv\\lib\\site-packages (from thinc<8.3.0,>=8.1.8->spacy->pyabsa) (0.1.4)\n",
      "Requirement already satisfied: cloudpathlib<0.17.0,>=0.7.0 in c:\\users\\lutzh\\documents\\py\\.venv\\lib\\site-packages (from weasel<0.4.0,>=0.1.0->spacy->pyabsa) (0.16.0)\n",
      "Requirement already satisfied: MarkupSafe>=2.0 in c:\\users\\lutzh\\documents\\py\\.venv\\lib\\site-packages (from jinja2->torch>=1.0.0->pyabsa) (2.1.3)\n",
      "Requirement already satisfied: et-xmlfile in c:\\users\\lutzh\\documents\\py\\.venv\\lib\\site-packages (from openpyxl->metric-visualizer>=0.9.6->pyabsa) (1.1.0)\n",
      "Requirement already satisfied: mpmath>=0.19 in c:\\users\\lutzh\\documents\\py\\.venv\\lib\\site-packages (from sympy->torch>=1.0.0->pyabsa) (1.3.0)\n",
      "Requirement already satisfied: webcolors in c:\\users\\lutzh\\documents\\py\\.venv\\lib\\site-packages (from tikzplotlib->metric-visualizer>=0.9.6->pyabsa) (1.13)\n"
     ]
    }
   ],
   "source": [
    "%pip install -U pyabsa"
   ]
  },
  {
   "cell_type": "markdown",
   "metadata": {},
   "source": [
    "## Default Configurations"
   ]
  },
  {
   "cell_type": "code",
   "execution_count": 5,
   "metadata": {},
   "outputs": [
    {
     "name": "stderr",
     "output_type": "stream",
     "text": [
      "c:\\Users\\lutzh\\Documents\\Py\\.venv\\Lib\\site-packages\\tqdm\\auto.py:21: TqdmWarning: IProgress not found. Please update jupyter and ipywidgets. See https://ipywidgets.readthedocs.io/en/stable/user_install.html\n",
      "  from .autonotebook import tqdm as notebook_tqdm\n"
     ]
    },
    {
     "name": "stdout",
     "output_type": "stream",
     "text": [
      "No CUDA GPU found in your device\n",
      "[2024-01-16 13:13:15] (2.4.0) \u001b[31mPyABSA(2.4.0): If your code crashes on Colab, please use the GPU runtime. Then run \"pip install pyabsa[dev] -U\" and restart the kernel.\n",
      "Or if it does not work, you can use v1.x versions, e.g., pip install pyabsa<2.0 -U\n",
      "\n",
      "\n",
      "\n",
      "\n",
      "WARNING: When you fails to load a checkpoint, e.g., Unexpected key(s),\n",
      "Try to downgrade transformers<=4.29.0.\n",
      "\n",
      "\n",
      "\n",
      "\u001b[0m\n"
     ]
    },
    {
     "name": "stderr",
     "output_type": "stream",
     "text": [
      "C:\\Users\\lutzh\\AppData\\Local\\Programs\\Python\\Python311\\Lib\\multiprocessing\\pool.py:268: ResourceWarning: unclosed running multiprocessing pool <multiprocessing.pool.Pool state=RUN pool_size=1>\n",
      "  _warn(f\"unclosed running multiprocessing pool {self!r}\",\n",
      "ResourceWarning: Enable tracemalloc to get the object allocation traceback\n"
     ]
    },
    {
     "ename": "NameError",
     "evalue": "name 'config' is not defined",
     "output_type": "error",
     "traceback": [
      "\u001b[1;31m---------------------------------------------------------------------------\u001b[0m",
      "\u001b[1;31mNameError\u001b[0m                                 Traceback (most recent call last)",
      "Cell \u001b[1;32mIn[5], line 4\u001b[0m\n\u001b[0;32m      1\u001b[0m \u001b[38;5;28;01mfrom\u001b[39;00m \u001b[38;5;21;01mpyabsa\u001b[39;00m \u001b[38;5;28;01mimport\u001b[39;00m AspectTermExtraction \u001b[38;5;28;01mas\u001b[39;00m ATE\n\u001b[0;32m      2\u001b[0m \u001b[38;5;28;01mfrom\u001b[39;00m \u001b[38;5;21;01mpyabsa\u001b[39;00m \u001b[38;5;28;01mimport\u001b[39;00m AspectPolarityClassification \u001b[38;5;28;01mas\u001b[39;00m APC\n\u001b[1;32m----> 4\u001b[0m \u001b[43mconfig\u001b[49m\u001b[38;5;241m.\u001b[39mget(\u001b[38;5;124m'\u001b[39m\u001b[38;5;124mmodel\u001b[39m\u001b[38;5;124m'\u001b[39m, \u001b[38;5;28;01mNone\u001b[39;00m)\n",
      "\u001b[1;31mNameError\u001b[0m: name 'config' is not defined"
     ]
    }
   ],
   "source": [
    "from pyabsa import AspectTermExtraction as ATE\n",
    "from pyabsa import AspectPolarityClassification as APC\n",
    "\n",
    "config.get('model', None)"
   ]
  }
 ],
 "metadata": {
  "kernelspec": {
   "display_name": ".venv",
   "language": "python",
   "name": "python3"
  },
  "language_info": {
   "codemirror_mode": {
    "name": "ipython",
    "version": 3
   },
   "file_extension": ".py",
   "mimetype": "text/x-python",
   "name": "python",
   "nbconvert_exporter": "python",
   "pygments_lexer": "ipython3",
   "version": "3.11.6"
  }
 },
 "nbformat": 4,
 "nbformat_minor": 2
}
